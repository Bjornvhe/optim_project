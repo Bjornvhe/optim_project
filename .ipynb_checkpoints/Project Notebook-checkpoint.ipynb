{
 "cells": [
  {
   "cell_type": "code",
   "execution_count": null,
   "metadata": {},
   "outputs": [],
   "source": []
  },
  {
   "cell_type": "code",
   "execution_count": 1,
   "metadata": {
    "scrolled": true
   },
   "outputs": [],
   "source": [
    "#--- 1. Imports ---\n",
    "import numpy as np\n",
    "import matplotlib.pyplot as plt\n",
    "\n",
    "from datagen import TestLinear\n",
    "from solver import SVM_Solver\n",
    "from utils import compute_objective"
   ]
  },
  {
   "cell_type": "code",
   "execution_count": 2,
   "metadata": {},
   "outputs": [
    {
     "name": "stdout",
     "output_type": "stream",
     "text": [
      "Generated 100 points in 2 dimensions.\n"
     ]
    }
   ],
   "source": [
    "# --- 2. Generate Test Data ---\n",
    "\n",
    "# Define the hyperplane parameters\n",
    "w_true = np.array([1.0, 1.0])\n",
    "b_true = 1.0\n",
    "margin = 0.5\n",
    "n_A = 50\n",
    "n_B = 50\n",
    "\n",
    "# Generate the dataset from the given python code from the description\n",
    "listA, listB = TestLinear(w_true, b_true, n_A, n_B, margin)\n",
    "\n",
    "# Combine the data\n",
    "X = np.array(listA + listB)\n",
    "y = np.array([-1]*n_A + [1]*n_B)\n",
    "\n",
    "M, d = X.shape\n",
    "print(f\"Generated {M} points in {d} dimensions.\")\n"
   ]
  },
  {
   "cell_type": "code",
   "execution_count": 3,
   "metadata": {},
   "outputs": [],
   "source": [
    "# --- 3. Construct the Gram Matrix G ---\n",
    "\n",
    "G = np.zeros((M, M))\n",
    "for i in range(M):\n",
    "    for j in range(M):\n",
    "        G[i, j] = np.dot(X[i], X[j])\n"
   ]
  },
  {
   "cell_type": "code",
   "execution_count": 4,
   "metadata": {},
   "outputs": [
    {
     "ename": "NameError",
     "evalue": "name 'compute_objective' is not defined",
     "output_type": "error",
     "traceback": [
      "\u001b[0;31m---------------------------------------------------------------------------\u001b[0m",
      "\u001b[0;31mNameError\u001b[0m                                 Traceback (most recent call last)",
      "Cell \u001b[0;32mIn[4], line 3\u001b[0m\n\u001b[1;32m      1\u001b[0m \u001b[38;5;66;03m# --- 4. Solve the Dual Problem ---\u001b[39;00m\n\u001b[0;32m----> 3\u001b[0m \u001b[38;5;28mprint\u001b[39m(\u001b[43mcompute_objective\u001b[49m(np\u001b[38;5;241m.\u001b[39mzeros(M), G, y))\n\u001b[1;32m      4\u001b[0m C \u001b[38;5;241m=\u001b[39m \u001b[38;5;241m50\u001b[39m  \u001b[38;5;66;03m# Regularization parameter (large value approximates hard margin)\u001b[39;00m\n\u001b[1;32m      5\u001b[0m tau_min \u001b[38;5;241m=\u001b[39m \u001b[38;5;241m1e-5\u001b[39m  \u001b[38;5;66;03m# Minimum step size\u001b[39;00m\n",
      "\u001b[0;31mNameError\u001b[0m: name 'compute_objective' is not defined"
     ]
    }
   ],
   "source": [
    "# --- 4. Solve the Dual Problem ---\n",
    "\n",
    "print(compute_objective(np.zeros(M), G, y))\n",
    "C = 50  # Regularization parameter (large value approximates hard margin)\n",
    "tau_min = 1e-5  # Minimum step size\n",
    "tau_max = 1e5  # Maximum step size\n",
    "max_iter = 1000  # Maximum iterations before stop (current alpha becomes result)\n",
    "tol = 1e-3  # Tolerance before convergence is complete (tau<tol == complete convergence)\n",
    "use_line_search = True  # Toggle simple line search\n",
    "\n",
    "\n",
    "solver = SVM_Solver(G, y, C, tau_min, tau_max, max_iter, tol, use_line_search)\n",
    "alpha_star = solver.solve()"
   ]
  },
  {
   "cell_type": "code",
   "execution_count": null,
   "metadata": {},
   "outputs": [],
   "source": [
    "# --- 5. Recover w* and b* ---\n",
    "\n",
    "# Support vectors indices\n",
    "support_indices = np.where(alpha_star > 1e-5)[0]\n",
    "\n",
    "# Compute w*\n",
    "w_star = np.sum((alpha_star[support_indices] * y[support_indices])[:, None] * X[support_indices], axis=0)\n",
    "\n",
    "# Compute b* using points with 0 < alpha_i < C\n",
    "support_interior = np.where((alpha_star > 1e-5) & (alpha_star < C))[0]\n",
    "if len(support_interior) > 0:\n",
    "    b_star = np.mean([y[i] - np.dot(w_star, X[i]) for i in support_interior])\n",
    "else:\n",
    "    b_star = 0  # fallback if no good points found\n",
    "    \n",
    "print(f\"Recovered w*: {w_star}\")\n",
    "print(f\"Recovered b*: {b_star}\")"
   ]
  },
  {
   "cell_type": "code",
   "execution_count": null,
   "metadata": {},
   "outputs": [],
   "source": [
    "# --- 6. Build Classifier and Plot ---\n",
    "\n",
    "def classifier(x):\n",
    "    return np.sign(np.dot(w_star, x) + b_star)\n",
    "\"\"\"\n",
    "# Plotting\n",
    "plt.figure(figsize=(8,6))\n",
    "for xi, yi in zip(X, y):\n",
    "    if yi == -1:\n",
    "        plt.scatter(xi[0], xi[1], color='red')\n",
    "    else:\n",
    "        plt.scatter(xi[0], xi[1], color='blue')\n",
    "\n",
    "# Plot decision boundary\n",
    "x_plot = np.linspace(np.min(X[:, 0])-1, np.max(X[:, 0])+1, 100)\n",
    "y_plot = -(w_star[0] * x_plot + b_star) / w_star[1]\n",
    "plt.plot(x_plot, y_plot, 'k--', label=\"Decision boundary\")\n",
    "\n",
    "plt.legend()\n",
    "plt.title(\"Linear SVM Classification (Dual Solver)\")\n",
    "plt.xlabel(\"$x_1$\")\n",
    "plt.ylabel(\"$x_2$\")\n",
    "plt.grid(True)\n",
    "plt.show()\n",
    "\"\"\"\n",
    "# Plotting\n",
    "plt.figure(figsize=(8,6))\n",
    "plt.scatter(X[y == -1][:, 0], X[y == -1][:, 1], color='red', label='Class -1')\n",
    "plt.scatter(X[y == 1][:, 0], X[y == 1][:, 1], color='blue', label='Class +1')\n",
    "\n",
    "x_plot = np.linspace(np.min(X[:, 0])-1, np.max(X[:, 0])+1, 100)\n",
    "\n",
    "if np.abs(w_star[1]) > 1e-8:\n",
    "    y_plot = -(w_star[0] * x_plot + b_star) / w_star[1]\n",
    "    plt.plot(x_plot, y_plot, 'k-', label=\"Decision boundary\")\n",
    "elif np.abs(w_star[0]) > 1e-8:\n",
    "    x_val = -b_star / w_star[0]\n",
    "    plt.axvline(x=x_val, color='k', linestyle='--', label=\"Decision boundary\")\n",
    "else:\n",
    "    print(\"Warning: both w_star components are too small to plot a meaningful decision boundary.\")\n",
    "\n",
    "plt.legend()\n",
    "plt.title(\"Linear SVM Classification (Dual Solver)\")\n",
    "plt.xlabel(\"$x_1$\")\n",
    "plt.ylabel(\"$x_2$\")\n",
    "plt.grid(True)\n",
    "plt.show()\n"
   ]
  },
  {
   "cell_type": "code",
   "execution_count": null,
   "metadata": {},
   "outputs": [],
   "source": [
    "print(\"Number of support vectors:\", len(support_indices))\n",
    "print(\"Number of free support vectors (0 < alpha < C):\", len(support_interior))\n",
    "print(\"Max alpha:\", np.max(alpha_star))\n",
    "print(\"Min alpha:\", np.min(alpha_star))"
   ]
  },
  {
   "cell_type": "code",
   "execution_count": null,
   "metadata": {},
   "outputs": [],
   "source": [
    "# Mark support vectors with circles\n",
    "for idx in support_indices:\n",
    "    plt.scatter(X[idx, 0], X[idx, 1], facecolors='none', edgecolors='k', s=100)\n",
    "\n",
    "# Mark free support vectors with larger circles\n",
    "for idx in support_interior:\n",
    "    plt.scatter(X[idx, 0], X[idx, 1], facecolors='none', edgecolors='g', s=150, linewidths=2)\n",
    "\n",
    "plt.title(\"Support Vectors (black) and Free Support Vectors (green)\")\n",
    "plt.grid(True)\n",
    "plt.show()"
   ]
  },
  {
   "cell_type": "code",
   "execution_count": null,
   "metadata": {},
   "outputs": [],
   "source": []
  }
 ],
 "metadata": {
  "kernelspec": {
   "display_name": "Optimization Project",
   "language": "python",
   "name": "opt_project"
  },
  "language_info": {
   "codemirror_mode": {
    "name": "ipython",
    "version": 3
   },
   "file_extension": ".py",
   "mimetype": "text/x-python",
   "name": "python",
   "nbconvert_exporter": "python",
   "pygments_lexer": "ipython3",
   "version": "3.11.4"
  }
 },
 "nbformat": 4,
 "nbformat_minor": 4
}
